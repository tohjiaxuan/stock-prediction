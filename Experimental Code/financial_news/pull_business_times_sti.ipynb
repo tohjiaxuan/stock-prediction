{
 "cells": [
  {
   "cell_type": "markdown",
   "metadata": {},
   "source": [
    "# Webscraping code for Business Times\n",
    "Website: https://www.businesstimes.com.sg/keywords/straits-times-index\n",
    "- Keyword: Straits Times Index\n"
   ]
  },
  {
   "cell_type": "markdown",
   "metadata": {},
   "source": [
    "### Import libraries"
   ]
  },
  {
   "cell_type": "code",
   "execution_count": 1,
   "metadata": {},
   "outputs": [],
   "source": [
    "#!pip install webdriver-manager\n",
    "from bs4 import BeautifulSoup\n",
    "from selenium import webdriver      \n",
    "from selenium.common.exceptions import NoSuchElementException\n",
    "from selenium.webdriver.common.by import By\n",
    "from selenium.webdriver.support.ui import WebDriverWait\n",
    "from selenium.webdriver.support import expected_conditions as EC\n",
    "from selenium.common.exceptions import ElementNotInteractableException\n",
    "from selenium.common.exceptions import ElementClickInterceptedException\n",
    "from selenium.common.exceptions import StaleElementReferenceException\n",
    "from selenium.common.exceptions import NoSuchElementException\n",
    "from selenium.webdriver.common.keys import Keys\n",
    "from webdriver_manager.chrome import ChromeDriverManager\n",
    "\n",
    "import csv\n",
    "import numpy as np\n",
    "import pandas as pd\n",
    "from random import randint\n",
    "import time\n",
    "from datetime import datetime, timedelta\n",
    "\n",
    "import warnings\n",
    "warnings.filterwarnings(\"ignore\")"
   ]
  },
  {
   "cell_type": "code",
   "execution_count": 2,
   "metadata": {},
   "outputs": [
    {
     "name": "stdout",
     "output_type": "stream",
     "text": [
      "Last update: 12/03/2022 19:22:51\n"
     ]
    }
   ],
   "source": [
    "print(\"Last update:\",datetime.now().strftime(\"%d/%m/%Y %H:%M:%S\"))"
   ]
  },
  {
   "cell_type": "markdown",
   "metadata": {},
   "source": [
    "### Scrape information\n",
    "To download adblocker .crx extension: https://www.crx4chrome.com/crx/31927/"
   ]
  },
  {
   "cell_type": "code",
   "execution_count": 3,
   "metadata": {},
   "outputs": [
    {
     "name": "stderr",
     "output_type": "stream",
     "text": [
      "\n",
      "\n",
      "====== WebDriver manager ======\n",
      "Current google-chrome version is 99.0.4844\n",
      "Get LATEST chromedriver version for 99.0.4844 google-chrome\n",
      "Driver [/Users/tohjiaxuan/.wdm/drivers/chromedriver/mac64/99.0.4844.51/chromedriver] found in cache\n"
     ]
    }
   ],
   "source": [
    "# # Access URL\n",
    "# bt_url = 'https://www.businesstimes.com.sg/keywords/straits-times-index'\n",
    "\n",
    "# driver = webdriver.Chrome(ChromeDriverManager().install())\n",
    "# driver.implicitly_wait(20)\n",
    "# driver.get(bt_url)\n",
    "\n",
    "# Access URL and Handle Advertisement Pop-up\n",
    "bt_url = 'https://www.businesstimes.com.sg/keywords/straits-times-index'\n",
    "\n",
    "chrome_options = webdriver.ChromeOptions()\n",
    "chrome_options.add_argument(\"--disable-notifications\")\n",
    "chrome_options.add_argument(\"--disable-popup-blocking\")\n",
    "chrome_options.add_extension(\"/Users/tohjiaxuan/Library/Application Support/Google/Chrome/Default/Extensions/gighmmpiobklfepjocnamgkkbiglidom-4.44.0-Crx4Chrome.com.crx\")\n",
    "\n",
    "driver = webdriver.Chrome(ChromeDriverManager().install(), chrome_options=chrome_options)\n",
    "driver.implicitly_wait(20)\n",
    "driver.get(bt_url)"
   ]
  },
  {
   "cell_type": "code",
   "execution_count": 4,
   "metadata": {},
   "outputs": [],
   "source": [
    "# 2 Tabs will open - The Business Times and AdBlocker Installation > Switch to Tab 1\n",
    "time.sleep(30)\n",
    "driver.switch_to.window(driver.window_handles[0])"
   ]
  },
  {
   "cell_type": "code",
   "execution_count": 5,
   "metadata": {},
   "outputs": [
    {
     "name": "stdout",
     "output_type": "stream",
     "text": [
      "Nothing to press\n"
     ]
    }
   ],
   "source": [
    "# Say 'No thanks' to subscription pop-up if it appears\n",
    "try:\n",
    "    subscription_button = driver.find_element_by_xpath('//*[@id=\"ei_subscribe\"]/div/div/div/div[2]/span')\n",
    "    if subscription_button:\n",
    "        subscription_button.click()\n",
    "except ElementNotInteractableException as e1:\n",
    "    print('Nothing to press')\n",
    "except NoSuchElementException as e2:\n",
    "    print('Nothing to press')"
   ]
  },
  {
   "cell_type": "code",
   "execution_count": 6,
   "metadata": {},
   "outputs": [],
   "source": [
    "# //*[@id=\"block-system-main\"]/div/div[2]/div/div[3]/div/div/ul/li/a"
   ]
  },
  {
   "cell_type": "code",
   "execution_count": 7,
   "metadata": {},
   "outputs": [
    {
     "name": "stdout",
     "output_type": "stream",
     "text": [
      "Page fully loaded\n"
     ]
    }
   ],
   "source": [
    "# Press 'MORE STORIES' until the end to get all possible articles\n",
    "more_stories = True\n",
    "while more_stories:\n",
    "    try:\n",
    "        find_button = driver.find_element_by_xpath('//*[@id=\"block-system-main\"]/div/div[2]/div/div[3]/div/div/ul/li/a')\n",
    "        if find_button != None:\n",
    "            find_button.click()\n",
    "            time.sleep(3)\n",
    "        else:\n",
    "            more_stories = False\n",
    "    except StaleElementReferenceException as e1:\n",
    "        continue\n",
    "    except ElementClickInterceptedException as e2:\n",
    "        continue\n",
    "    except NoSuchElementException as e3:\n",
    "        print('Page fully loaded')\n",
    "        break"
   ]
  },
  {
   "cell_type": "code",
   "execution_count": 8,
   "metadata": {},
   "outputs": [],
   "source": [
    "# Scrape information\n",
    "page_soup = BeautifulSoup(driver.page_source)\n",
    "information_block = page_soup.find('div',{'class':'col-lg-8 col-md-8 col-sm-12 col-xs-12 hidden--widget-action classy-panel-styles region'})\n",
    "\n",
    "# Initialisations\n",
    "news_header = []\n",
    "news_description = []\n",
    "news_date = []\n",
    "url = []\n",
    "\n",
    "for header in information_block.findAll('h2',{'class':'widget__title'}):\n",
    "    header_text = header.find('a').text\n",
    "    news_header.append(header_text)\n",
    "    \n",
    "for desc in information_block.findAll('div',{'class':'widget__description'}):\n",
    "    desc_text = desc.find('p').text\n",
    "    news_description.append(desc_text)\n",
    "    \n",
    "for date in information_block.findAll('div',{'class':'widget__date updated'}):\n",
    "    news_date.append(date.text)\n",
    "    \n",
    "for header in information_block.findAll('h2',{'class':'widget__title'}):\n",
    "    href = header.find('a').get('href')\n",
    "    href = 'https://www.businesstimes.com.sg' + href\n",
    "    url.append(href)"
   ]
  },
  {
   "cell_type": "code",
   "execution_count": 9,
   "metadata": {},
   "outputs": [],
   "source": [
    "driver.quit()"
   ]
  },
  {
   "cell_type": "code",
   "execution_count": 10,
   "metadata": {},
   "outputs": [
    {
     "name": "stdout",
     "output_type": "stream",
     "text": [
      "504\n",
      "504\n",
      "504\n",
      "504\n"
     ]
    }
   ],
   "source": [
    "print(len(news_header))\n",
    "print(len(news_description))\n",
    "print(len(news_date))\n",
    "print(len(url))"
   ]
  },
  {
   "cell_type": "code",
   "execution_count": 11,
   "metadata": {},
   "outputs": [
    {
     "name": "stdout",
     "output_type": "stream",
     "text": [
      "Singapore stocks edge up cautiously on Friday\n",
      "THE Straits Times Index (STI) overcame weak sentiment earlier in the day to register a third straight winning...\n",
      "\n",
      "Mar 12, 2022 05:50 AM\n",
      "https://www.businesstimes.com.sg/stocks/singapore-stocks-edge-up-cautiously-on-friday\n"
     ]
    }
   ],
   "source": [
    "print(news_header[0])\n",
    "print(news_description[0])\n",
    "print(news_date[0])\n",
    "print(url[0])"
   ]
  },
  {
   "cell_type": "markdown",
   "metadata": {},
   "source": [
    "### Clean up data"
   ]
  },
  {
   "cell_type": "code",
   "execution_count": 12,
   "metadata": {},
   "outputs": [],
   "source": [
    "# Clean up News Date information\n",
    "\n",
    "#test = datetime.strptime('Mar 8, 2022 06:00 PM', '%b %d, %Y %I:%M %p')\n",
    "#test.strftime('%d/%m/%Y')\n",
    "\n",
    "cleaned_time = [date.strip('\\n') for date in news_date]\n",
    "cleaned_time = [datetime.strptime(date, '%b %d, %Y %I:%M %p') for date in cleaned_time]\n",
    "cleaned_time = [date.strftime('%d/%m/%Y') for date in cleaned_time]"
   ]
  },
  {
   "cell_type": "markdown",
   "metadata": {},
   "source": [
    "### Convert to DF and Export to CSV"
   ]
  },
  {
   "cell_type": "code",
   "execution_count": 15,
   "metadata": {},
   "outputs": [
    {
     "data": {
      "text/html": [
       "<div>\n",
       "<style scoped>\n",
       "    .dataframe tbody tr th:only-of-type {\n",
       "        vertical-align: middle;\n",
       "    }\n",
       "\n",
       "    .dataframe tbody tr th {\n",
       "        vertical-align: top;\n",
       "    }\n",
       "\n",
       "    .dataframe thead th {\n",
       "        text-align: right;\n",
       "    }\n",
       "</style>\n",
       "<table border=\"1\" class=\"dataframe\">\n",
       "  <thead>\n",
       "    <tr style=\"text-align: right;\">\n",
       "      <th></th>\n",
       "      <th>Symbol</th>\n",
       "      <th>Title</th>\n",
       "      <th>Date</th>\n",
       "      <th>Link</th>\n",
       "      <th>Source</th>\n",
       "      <th>Comments</th>\n",
       "    </tr>\n",
       "  </thead>\n",
       "  <tbody>\n",
       "    <tr>\n",
       "      <th>0</th>\n",
       "      <td>None</td>\n",
       "      <td>Singapore stocks edge up cautiously on Friday</td>\n",
       "      <td>12/03/2022</td>\n",
       "      <td>https://www.businesstimes.com.sg/stocks/singap...</td>\n",
       "      <td>The Business Times</td>\n",
       "      <td></td>\n",
       "    </tr>\n",
       "    <tr>\n",
       "      <th>1</th>\n",
       "      <td>None</td>\n",
       "      <td>Singapore stocks edge up cautiously on Friday;...</td>\n",
       "      <td>11/03/2022</td>\n",
       "      <td>https://www.businesstimes.com.sg/stocks/singap...</td>\n",
       "      <td>The Business Times</td>\n",
       "      <td></td>\n",
       "    </tr>\n",
       "    <tr>\n",
       "      <th>2</th>\n",
       "      <td>None</td>\n",
       "      <td>Singapore stocks open lower on Friday; STI dow...</td>\n",
       "      <td>11/03/2022</td>\n",
       "      <td>https://www.businesstimes.com.sg/stocks/singap...</td>\n",
       "      <td>The Business Times</td>\n",
       "      <td></td>\n",
       "    </tr>\n",
       "    <tr>\n",
       "      <th>3</th>\n",
       "      <td>None</td>\n",
       "      <td>Singapore stocks extend gains as Asian markets...</td>\n",
       "      <td>11/03/2022</td>\n",
       "      <td>https://www.businesstimes.com.sg/stocks/singap...</td>\n",
       "      <td>The Business Times</td>\n",
       "      <td></td>\n",
       "    </tr>\n",
       "    <tr>\n",
       "      <th>4</th>\n",
       "      <td>None</td>\n",
       "      <td>Singapore stocks extend gains on Thursday as A...</td>\n",
       "      <td>10/03/2022</td>\n",
       "      <td>https://www.businesstimes.com.sg/stocks/singap...</td>\n",
       "      <td>The Business Times</td>\n",
       "      <td></td>\n",
       "    </tr>\n",
       "  </tbody>\n",
       "</table>\n",
       "</div>"
      ],
      "text/plain": [
       "  Symbol                                              Title        Date  \\\n",
       "0   None      Singapore stocks edge up cautiously on Friday  12/03/2022   \n",
       "1   None  Singapore stocks edge up cautiously on Friday;...  11/03/2022   \n",
       "2   None  Singapore stocks open lower on Friday; STI dow...  11/03/2022   \n",
       "3   None  Singapore stocks extend gains as Asian markets...  11/03/2022   \n",
       "4   None  Singapore stocks extend gains on Thursday as A...  10/03/2022   \n",
       "\n",
       "                                                Link              Source  \\\n",
       "0  https://www.businesstimes.com.sg/stocks/singap...  The Business Times   \n",
       "1  https://www.businesstimes.com.sg/stocks/singap...  The Business Times   \n",
       "2  https://www.businesstimes.com.sg/stocks/singap...  The Business Times   \n",
       "3  https://www.businesstimes.com.sg/stocks/singap...  The Business Times   \n",
       "4  https://www.businesstimes.com.sg/stocks/singap...  The Business Times   \n",
       "\n",
       "  Comments  \n",
       "0           \n",
       "1           \n",
       "2           \n",
       "3           \n",
       "4           "
      ]
     },
     "execution_count": 15,
     "metadata": {},
     "output_type": "execute_result"
    }
   ],
   "source": [
    "# Convert to DataFrame\n",
    "cols = ['Title','Date','Link','Source','Comments']\n",
    "df = pd.DataFrame({'Title': news_header,\n",
    "                   'Date': cleaned_time,\n",
    "                   'Link': url,\n",
    "                   'Source': 'The Business Times',\n",
    "                   'Comments': ''}, columns=cols)\n",
    "df.insert(0, 'Symbol', 'None')\n",
    "df.head()"
   ]
  },
  {
   "cell_type": "code",
   "execution_count": 16,
   "metadata": {},
   "outputs": [
    {
     "name": "stdout",
     "output_type": "stream",
     "text": [
      "Current date and time 12/03/2022 19:30:14\n",
      "Data for Business Times (keyword \"STI\") exported successfully!\n"
     ]
    }
   ],
   "source": [
    "# Export to CSV\n",
    "now = datetime.now()\n",
    "current = now.strftime(\"%d/%m/%Y %H:%M:%S\")\n",
    "print('Current date and time',current)\n",
    "\n",
    "df_dict = df.to_dict(orient='records')\n",
    "keys = df_dict[0].keys()\n",
    "with open('business_times_data.csv', 'w') as output_file:\n",
    "    dict_writer = csv.DictWriter(output_file, keys)\n",
    "    dict_writer.writeheader()\n",
    "    dict_writer.writerows(df_dict)\n",
    "\n",
    "print('Data for Business Times (keyword \"STI\") exported successfully!')"
   ]
  },
  {
   "cell_type": "code",
   "execution_count": null,
   "metadata": {},
   "outputs": [],
   "source": []
  }
 ],
 "metadata": {
  "kernelspec": {
   "display_name": "Python 3",
   "language": "python",
   "name": "python3"
  },
  "language_info": {
   "codemirror_mode": {
    "name": "ipython",
    "version": 3
   },
   "file_extension": ".py",
   "mimetype": "text/x-python",
   "name": "python",
   "nbconvert_exporter": "python",
   "pygments_lexer": "ipython3",
   "version": "3.7.4"
  }
 },
 "nbformat": 4,
 "nbformat_minor": 2
}
