{
 "cells": [
  {
   "cell_type": "markdown",
   "metadata": {},
   "source": [
    "# Webscraping code for blogs featured on SGInvestors\n",
    "Website: https://research.sginvestors.io/p/bloggers-say.html"
   ]
  },
  {
   "cell_type": "markdown",
   "metadata": {},
   "source": [
    "### Import libraries"
   ]
  },
  {
   "cell_type": "code",
   "execution_count": 1,
   "metadata": {},
   "outputs": [],
   "source": [
    "#!pip install webdriver-manager\n",
    "from bs4 import BeautifulSoup\n",
    "from selenium import webdriver      \n",
    "from selenium.common.exceptions import NoSuchElementException\n",
    "from selenium.webdriver.common.by import By\n",
    "from selenium.webdriver.support.ui import WebDriverWait\n",
    "from selenium.webdriver.support import expected_conditions as EC\n",
    "from selenium.webdriver.common.keys import Keys\n",
    "from webdriver_manager.chrome import ChromeDriverManager\n",
    "\n",
    "import csv\n",
    "import numpy as np\n",
    "import pandas as pd\n",
    "from random import randint\n",
    "import time\n",
    "from datetime import datetime, timedelta\n",
    "\n",
    "import warnings\n",
    "warnings.filterwarnings(\"ignore\")"
   ]
  },
  {
   "cell_type": "code",
   "execution_count": 2,
   "metadata": {},
   "outputs": [
    {
     "name": "stdout",
     "output_type": "stream",
     "text": [
      "Last update: 12/03/2022 14:03:11\n"
     ]
    }
   ],
   "source": [
    "print(\"Last update:\",datetime.now().strftime(\"%d/%m/%Y %H:%M:%S\"))"
   ]
  },
  {
   "cell_type": "markdown",
   "metadata": {},
   "source": [
    "### Scrape information for all pages\n",
    "Just get the 'Latest Articles'"
   ]
  },
  {
   "cell_type": "code",
   "execution_count": 3,
   "metadata": {},
   "outputs": [
    {
     "data": {
      "text/plain": [
       "['https://research.sginvestors.io/p/bloggers-say.html',\n",
       " 'https://research.sginvestors.io/p/bloggers-say-2.html',\n",
       " 'https://research.sginvestors.io/p/bloggers-say-3.html',\n",
       " 'https://research.sginvestors.io/p/bloggers-say-4.html',\n",
       " 'https://research.sginvestors.io/p/bloggers-say-5.html',\n",
       " 'https://research.sginvestors.io/p/bloggers-say-6.html']"
      ]
     },
     "execution_count": 3,
     "metadata": {},
     "output_type": "execute_result"
    }
   ],
   "source": [
    "# Obtain page URLs\n",
    "page_url_list = ['https://research.sginvestors.io/p/bloggers-say.html'] # 1st page\n",
    "for i in range(2,7): # for 6 pages\n",
    "    page_url_list.append('https://research.sginvestors.io/p/bloggers-say-' + str(i) + '.html')\n",
    "    \n",
    "page_url_list"
   ]
  },
  {
   "cell_type": "code",
   "execution_count": 4,
   "metadata": {},
   "outputs": [
    {
     "name": "stderr",
     "output_type": "stream",
     "text": [
      "\n",
      "\n",
      "====== WebDriver manager ======\n",
      "Current google-chrome version is 99.0.4844\n",
      "Get LATEST chromedriver version for 99.0.4844 google-chrome\n",
      "Trying to download new driver from https://chromedriver.storage.googleapis.com/99.0.4844.51/chromedriver_mac64.zip\n",
      "Driver has been saved in cache [/Users/tohjiaxuan/.wdm/drivers/chromedriver/mac64/99.0.4844.51]\n"
     ]
    },
    {
     "name": "stdout",
     "output_type": "stream",
     "text": [
      "Page Number:  1\n",
      "Page URL:  https://research.sginvestors.io/p/bloggers-say.html\n"
     ]
    },
    {
     "name": "stderr",
     "output_type": "stream",
     "text": [
      "\n",
      "\n",
      "====== WebDriver manager ======\n",
      "Current google-chrome version is 99.0.4844\n",
      "Get LATEST chromedriver version for 99.0.4844 google-chrome\n"
     ]
    },
    {
     "name": "stdout",
     "output_type": "stream",
     "text": [
      "---------\n"
     ]
    },
    {
     "name": "stderr",
     "output_type": "stream",
     "text": [
      "Driver [/Users/tohjiaxuan/.wdm/drivers/chromedriver/mac64/99.0.4844.51/chromedriver] found in cache\n"
     ]
    },
    {
     "name": "stdout",
     "output_type": "stream",
     "text": [
      "Page Number:  2\n",
      "Page URL:  https://research.sginvestors.io/p/bloggers-say-2.html\n"
     ]
    },
    {
     "name": "stderr",
     "output_type": "stream",
     "text": [
      "\n",
      "\n",
      "====== WebDriver manager ======\n",
      "Current google-chrome version is 99.0.4844\n"
     ]
    },
    {
     "name": "stdout",
     "output_type": "stream",
     "text": [
      "---------\n"
     ]
    },
    {
     "name": "stderr",
     "output_type": "stream",
     "text": [
      "Get LATEST chromedriver version for 99.0.4844 google-chrome\n",
      "Driver [/Users/tohjiaxuan/.wdm/drivers/chromedriver/mac64/99.0.4844.51/chromedriver] found in cache\n"
     ]
    },
    {
     "name": "stdout",
     "output_type": "stream",
     "text": [
      "Page Number:  3\n",
      "Page URL:  https://research.sginvestors.io/p/bloggers-say-3.html\n"
     ]
    },
    {
     "name": "stderr",
     "output_type": "stream",
     "text": [
      "\n",
      "\n",
      "====== WebDriver manager ======\n",
      "Current google-chrome version is 99.0.4844\n",
      "Get LATEST chromedriver version for 99.0.4844 google-chrome\n"
     ]
    },
    {
     "name": "stdout",
     "output_type": "stream",
     "text": [
      "---------\n"
     ]
    },
    {
     "name": "stderr",
     "output_type": "stream",
     "text": [
      "Driver [/Users/tohjiaxuan/.wdm/drivers/chromedriver/mac64/99.0.4844.51/chromedriver] found in cache\n"
     ]
    },
    {
     "name": "stdout",
     "output_type": "stream",
     "text": [
      "Page Number:  4\n",
      "Page URL:  https://research.sginvestors.io/p/bloggers-say-4.html\n"
     ]
    },
    {
     "name": "stderr",
     "output_type": "stream",
     "text": [
      "\n",
      "\n",
      "====== WebDriver manager ======\n",
      "Current google-chrome version is 99.0.4844\n",
      "Get LATEST chromedriver version for 99.0.4844 google-chrome\n"
     ]
    },
    {
     "name": "stdout",
     "output_type": "stream",
     "text": [
      "---------\n"
     ]
    },
    {
     "name": "stderr",
     "output_type": "stream",
     "text": [
      "Driver [/Users/tohjiaxuan/.wdm/drivers/chromedriver/mac64/99.0.4844.51/chromedriver] found in cache\n"
     ]
    },
    {
     "name": "stdout",
     "output_type": "stream",
     "text": [
      "Page Number:  5\n",
      "Page URL:  https://research.sginvestors.io/p/bloggers-say-5.html\n"
     ]
    },
    {
     "name": "stderr",
     "output_type": "stream",
     "text": [
      "\n",
      "\n",
      "====== WebDriver manager ======\n"
     ]
    },
    {
     "name": "stdout",
     "output_type": "stream",
     "text": [
      "---------\n"
     ]
    },
    {
     "name": "stderr",
     "output_type": "stream",
     "text": [
      "Current google-chrome version is 99.0.4844\n",
      "Get LATEST chromedriver version for 99.0.4844 google-chrome\n",
      "Driver [/Users/tohjiaxuan/.wdm/drivers/chromedriver/mac64/99.0.4844.51/chromedriver] found in cache\n"
     ]
    },
    {
     "name": "stdout",
     "output_type": "stream",
     "text": [
      "Page Number:  6\n",
      "Page URL:  https://research.sginvestors.io/p/bloggers-say-6.html\n",
      "---------\n",
      "---Scraping done!!---\n"
     ]
    }
   ],
   "source": [
    "# Scrape all pages\n",
    "\n",
    "# Initialisations\n",
    "source = []\n",
    "author = []\n",
    "title = []\n",
    "description = []\n",
    "updated_sg_time = []\n",
    "url = []\n",
    "num_pages = 1\n",
    "\n",
    "# Scraping of pages\n",
    "for page_url in page_url_list[:]:\n",
    "    \n",
    "    #driver = webdriver.Chrome('chromedriver')\n",
    "    driver = webdriver.Chrome(ChromeDriverManager().install())\n",
    "    driver.get(page_url)\n",
    "    page_soup = BeautifulSoup(driver.page_source,\"html.parser\")\n",
    "    \n",
    "    print('Page Number: ', num_pages)\n",
    "    print('Page URL: ', page_url)\n",
    "    \n",
    "    # source\n",
    "    for src in page_soup.findAll('div',{'class':'blogtitle'}):\n",
    "        src_span = src.find('span')\n",
    "        source.append(src_span.text)\n",
    "        \n",
    "    # author\n",
    "    for auth in page_soup.findAll('div',{'class':'authorname'}):\n",
    "        author.append(auth.text)\n",
    "    \n",
    "    # title\n",
    "    for ttl in page_soup.findAll('div',{'class':'title'}):\n",
    "        title.append(ttl.text)\n",
    "        \n",
    "    # description - only Latest Articles have this\n",
    "    if num_pages == 1:\n",
    "        for i in range(10):                 # 5 Best Rated Articles and 5 Most Popular Articles\n",
    "            description.append('')\n",
    "            \n",
    "        for desc in page_soup.findAll('div',{'class':'description'}): # Latest Articles on Page 1\n",
    "            description.append(desc.text)\n",
    "            \n",
    "    else:                                   # Latest Articles from Page 2\n",
    "        for desc in page_soup.findAll('div',{'class':'description'}):\n",
    "            description.append(desc.text)\n",
    "    \n",
    "    # updated sg time - only Latest Articles have this\n",
    "    if num_pages == 1:\n",
    "        for i in range(10):                 # 5 Best Rated Articles and 5 Most Popular Articles\n",
    "            updated_sg_time.append('')\n",
    "            \n",
    "        for time in page_soup.findAll('div',{'class':'updatedsgtime'}): # Latest Articles on Page 1\n",
    "            updated_sg_time.append(time.text)\n",
    "            \n",
    "    else:                                   # Latest Articles from Page 2\n",
    "        for time in page_soup.findAll('div',{'class':'updatedsgtime'}):\n",
    "            updated_sg_time.append(time.text)\n",
    "    \n",
    "    # url\n",
    "    for url_item in page_soup.findAll('article',{'class':'bloggeritem'}):\n",
    "        all_link_lst = url_item.get('onclick')\n",
    "        link_lst = all_link_lst[3:-2].split(',')\n",
    "        http_lst = [string for string in link_lst if 'http' in string]\n",
    "        http = [string.replace('\"', '') for string in http_lst]\n",
    "        http_clean = [string.replace(\"'\", \"\") for string in http]\n",
    "        url.append(http_clean[-1].strip(\" \"))\n",
    "    \n",
    "    num_pages += 1\n",
    "    driver.quit()\n",
    "    print('---------')\n",
    "    \n",
    "print('---Scraping done!!---')"
   ]
  },
  {
   "cell_type": "code",
   "execution_count": 5,
   "metadata": {},
   "outputs": [
    {
     "name": "stdout",
     "output_type": "stream",
     "text": [
      "195\n",
      "195\n",
      "195\n",
      "195\n",
      "195\n",
      "195\n"
     ]
    }
   ],
   "source": [
    "print(len(source))\n",
    "print(len(author))\n",
    "print(len(title))\n",
    "print(len(description))\n",
    "print(len(updated_sg_time))\n",
    "print(len(url))"
   ]
  },
  {
   "cell_type": "code",
   "execution_count": 6,
   "metadata": {},
   "outputs": [
    {
     "name": "stdout",
     "output_type": "stream",
     "text": [
      "Governance For Stakeholders\n",
      "Mak Yuen Teen\n",
      "Regulators Should Ensure It Is Not Business As Usual At Kimly\n",
      "Bought a 5% position in oil producers again with the correction in WTI over the past 2 days: 2% CNQ, 2% Equinor, and 1% Pretobras.Will write more here on the weekend.Update: Friday 11th March.Why I bo.... \n",
      "(edited) 16 hours ago\n",
      "https://governanceforstakeholders.com/?p=3992\n"
     ]
    }
   ],
   "source": [
    "print(source[0])\n",
    "print(author[0])\n",
    "print(title[0])\n",
    "print(description[11])\n",
    "print(updated_sg_time[11])\n",
    "print(url[0])"
   ]
  },
  {
   "cell_type": "markdown",
   "metadata": {},
   "source": [
    "### Clean up data"
   ]
  },
  {
   "cell_type": "code",
   "execution_count": 7,
   "metadata": {},
   "outputs": [],
   "source": [
    "# Clean up Updated SG Time information (put in terms of date)\n",
    "cleaned_time = []\n",
    "current_time = datetime.today()\n",
    "for time in updated_sg_time:\n",
    "    time = time.strip('(edited) ')\n",
    "    if time == '':\n",
    "        cleaned_time.append('-')\n",
    "    else:\n",
    "        if 'minute' in time:\n",
    "            last_update = current_time - timedelta(minutes=int(time.split(' ')[0]))\n",
    "        elif 'hour' in time:\n",
    "            last_update = current_time - timedelta(hours=int(time.split(' ')[0]))\n",
    "        elif 'day' in time:\n",
    "            last_update = current_time - timedelta(days=int(time.split(' ')[0]))\n",
    "        else:\n",
    "            last_update = time # will need to double check\n",
    "\n",
    "        #last_update = last_update.strftime('%d/%m/%Y %H:%M %p') # 27/02/2022 09:05 AM\n",
    "        last_update = last_update.strftime('%d/%m/%Y') # 27/02/2022\n",
    "        cleaned_time.append(last_update)"
   ]
  },
  {
   "cell_type": "markdown",
   "metadata": {},
   "source": [
    "### Convert to DF and Export to CSV"
   ]
  },
  {
   "cell_type": "code",
   "execution_count": 8,
   "metadata": {},
   "outputs": [
    {
     "data": {
      "text/html": [
       "<div>\n",
       "<style scoped>\n",
       "    .dataframe tbody tr th:only-of-type {\n",
       "        vertical-align: middle;\n",
       "    }\n",
       "\n",
       "    .dataframe tbody tr th {\n",
       "        vertical-align: top;\n",
       "    }\n",
       "\n",
       "    .dataframe thead th {\n",
       "        text-align: right;\n",
       "    }\n",
       "</style>\n",
       "<table border=\"1\" class=\"dataframe\">\n",
       "  <thead>\n",
       "    <tr style=\"text-align: right;\">\n",
       "      <th></th>\n",
       "      <th>Symbol</th>\n",
       "      <th>Title</th>\n",
       "      <th>Date</th>\n",
       "      <th>Link</th>\n",
       "      <th>Source</th>\n",
       "      <th>Comments</th>\n",
       "    </tr>\n",
       "  </thead>\n",
       "  <tbody>\n",
       "    <tr>\n",
       "      <th>0</th>\n",
       "      <td>None</td>\n",
       "      <td>Regulators Should Ensure It Is Not Business As...</td>\n",
       "      <td>-</td>\n",
       "      <td>https://governanceforstakeholders.com/?p=3992</td>\n",
       "      <td>Governance For Stakeholders</td>\n",
       "      <td>Blogs posts featured on SGInvestors</td>\n",
       "    </tr>\n",
       "    <tr>\n",
       "      <th>1</th>\n",
       "      <td>None</td>\n",
       "      <td>Temasek Holdings’ Top 5 investments as of end ...</td>\n",
       "      <td>-</td>\n",
       "      <td>https://www.drwealth.com/?p=91656</td>\n",
       "      <td>Doctor Wealth</td>\n",
       "      <td>Blogs posts featured on SGInvestors</td>\n",
       "    </tr>\n",
       "    <tr>\n",
       "      <th>2</th>\n",
       "      <td>None</td>\n",
       "      <td>How Much Did Singapore Gig Economy Platform Wo...</td>\n",
       "      <td>-</td>\n",
       "      <td>https://dollarsandsense.sg/?p=42783</td>\n",
       "      <td>DollarsAndSense.sg</td>\n",
       "      <td>Blogs posts featured on SGInvestors</td>\n",
       "    </tr>\n",
       "    <tr>\n",
       "      <th>3</th>\n",
       "      <td>None</td>\n",
       "      <td>Best Stock Trading Books (Must Read)</td>\n",
       "      <td>-</td>\n",
       "      <td>https://www.tradingwithrayner.com/?p=41381</td>\n",
       "      <td>Trading With Rayner</td>\n",
       "      <td>Blogs posts featured on SGInvestors</td>\n",
       "    </tr>\n",
       "    <tr>\n",
       "      <th>4</th>\n",
       "      <td>None</td>\n",
       "      <td>Ladies, Here’s How Much Your Period Costs You ...</td>\n",
       "      <td>-</td>\n",
       "      <td>https://dollarsandsense.sg/?p=26577</td>\n",
       "      <td>DollarsAndSense.sg</td>\n",
       "      <td>Blogs posts featured on SGInvestors</td>\n",
       "    </tr>\n",
       "  </tbody>\n",
       "</table>\n",
       "</div>"
      ],
      "text/plain": [
       "  Symbol                                              Title Date  \\\n",
       "0   None  Regulators Should Ensure It Is Not Business As...    -   \n",
       "1   None  Temasek Holdings’ Top 5 investments as of end ...    -   \n",
       "2   None  How Much Did Singapore Gig Economy Platform Wo...    -   \n",
       "3   None               Best Stock Trading Books (Must Read)    -   \n",
       "4   None  Ladies, Here’s How Much Your Period Costs You ...    -   \n",
       "\n",
       "                                            Link                       Source  \\\n",
       "0  https://governanceforstakeholders.com/?p=3992  Governance For Stakeholders   \n",
       "1              https://www.drwealth.com/?p=91656                Doctor Wealth   \n",
       "2            https://dollarsandsense.sg/?p=42783           DollarsAndSense.sg   \n",
       "3     https://www.tradingwithrayner.com/?p=41381          Trading With Rayner   \n",
       "4            https://dollarsandsense.sg/?p=26577           DollarsAndSense.sg   \n",
       "\n",
       "                              Comments  \n",
       "0  Blogs posts featured on SGInvestors  \n",
       "1  Blogs posts featured on SGInvestors  \n",
       "2  Blogs posts featured on SGInvestors  \n",
       "3  Blogs posts featured on SGInvestors  \n",
       "4  Blogs posts featured on SGInvestors  "
      ]
     },
     "execution_count": 8,
     "metadata": {},
     "output_type": "execute_result"
    }
   ],
   "source": [
    "# Convert to DataFrame\n",
    "cols = ['Title','Date','Link','Source','Comments']\n",
    "df = pd.DataFrame({'Title': title,\n",
    "                   'Date': cleaned_time,\n",
    "                   'Link': url,\n",
    "                   'Source': source,\n",
    "                   'Comments': 'Blogs posts featured on SGInvestors'}, columns=cols)\n",
    "df.insert(0, 'Symbol', 'None')\n",
    "df.head()"
   ]
  },
  {
   "cell_type": "code",
   "execution_count": 9,
   "metadata": {},
   "outputs": [
    {
     "name": "stdout",
     "output_type": "stream",
     "text": [
      "Current date and time 12/03/2022 14:04:32\n",
      "Data for blogs in SGInvestors exported successfully!\n"
     ]
    }
   ],
   "source": [
    "# Export to CSV\n",
    "now = datetime.now()\n",
    "current = now.strftime(\"%d/%m/%Y %H:%M:%S\")\n",
    "print('Current date and time',current)\n",
    "\n",
    "df_dict = df.to_dict(orient='records')\n",
    "keys = df_dict[0].keys()\n",
    "with open('sginvestors_blogs_data.csv', 'w') as output_file:\n",
    "    dict_writer = csv.DictWriter(output_file, keys)\n",
    "    dict_writer.writeheader()\n",
    "    dict_writer.writerows(df_dict)\n",
    "\n",
    "print('Data for blogs in SGInvestors exported successfully!')"
   ]
  },
  {
   "cell_type": "code",
   "execution_count": 10,
   "metadata": {},
   "outputs": [
    {
     "data": {
      "text/plain": [
       "195"
      ]
     },
     "execution_count": 10,
     "metadata": {},
     "output_type": "execute_result"
    }
   ],
   "source": [
    "len(df)"
   ]
  },
  {
   "cell_type": "code",
   "execution_count": null,
   "metadata": {},
   "outputs": [],
   "source": []
  }
 ],
 "metadata": {
  "kernelspec": {
   "display_name": "Python 3",
   "language": "python",
   "name": "python3"
  },
  "language_info": {
   "codemirror_mode": {
    "name": "ipython",
    "version": 3
   },
   "file_extension": ".py",
   "mimetype": "text/x-python",
   "name": "python",
   "nbconvert_exporter": "python",
   "pygments_lexer": "ipython3",
   "version": "3.7.4"
  }
 },
 "nbformat": 4,
 "nbformat_minor": 2
}
