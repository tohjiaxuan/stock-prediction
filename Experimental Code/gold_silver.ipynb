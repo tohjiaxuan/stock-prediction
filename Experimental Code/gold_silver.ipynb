{
 "cells": [
  {
   "cell_type": "code",
   "execution_count": null,
   "id": "ce537a67",
   "metadata": {},
   "outputs": [],
   "source": [
    "!pip install yfinance"
   ]
  },
  {
   "cell_type": "code",
   "execution_count": null,
   "id": "6b10494f",
   "metadata": {},
   "outputs": [],
   "source": [
    "import yfinance as yf"
   ]
  },
  {
   "cell_type": "code",
   "execution_count": null,
   "id": "669134d7",
   "metadata": {},
   "outputs": [],
   "source": [
    "from pandas_datareader import data as pdr\n",
    "\n",
    "yf.pdr_override() "
   ]
  },
  {
   "cell_type": "code",
   "execution_count": null,
   "id": "66b6d622",
   "metadata": {},
   "outputs": [],
   "source": [
    "# download dataframe\n",
    "spy = pdr.get_data_yahoo(\"GC=F\", start=\"2022-01-01\", end=\"2022-03-01\")\n",
    "gold.to_csv('gold.csv')\n"
   ]
  },
  {
   "cell_type": "code",
   "execution_count": null,
   "id": "fe0e5d42",
   "metadata": {},
   "outputs": [],
   "source": [
    "# download dataframe\n",
    "silver = pdr.get_data_yahoo(\"SI=F\", start=\"2021-01-01\", end=\"2022-03-01\")\n",
    "silver.to_csv('silver.csv')\n"
   ]
  },
  {
   "cell_type": "code",
   "execution_count": null,
   "id": "49b9f8af",
   "metadata": {},
   "outputs": [],
   "source": [
    "!cp gold.csv \"drive/My Drive/\"\n",
    "!cp silver.csv \"drive/My Drive/\""
   ]
  }
 ],
 "metadata": {
  "kernelspec": {
   "display_name": "Python 3",
   "language": "python",
   "name": "python3"
  },
  "language_info": {
   "codemirror_mode": {
    "name": "ipython",
    "version": 3
   },
   "file_extension": ".py",
   "mimetype": "text/x-python",
   "name": "python",
   "nbconvert_exporter": "python",
   "pygments_lexer": "ipython3",
   "version": "3.8.8"
  }
 },
 "nbformat": 4,
 "nbformat_minor": 5
}
