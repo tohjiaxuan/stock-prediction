{
 "cells": [
  {
   "cell_type": "markdown",
   "metadata": {},
   "source": [
    "# Consolidate all financial news into a single table\n",
    "### Sources:\n",
    "1. SG Investors\n",
    "2. Yahoo Finance News"
   ]
  },
  {
   "cell_type": "markdown",
   "metadata": {},
   "source": [
    "### Import Libraries"
   ]
  },
  {
   "cell_type": "code",
   "execution_count": 1,
   "metadata": {},
   "outputs": [],
   "source": [
    "import glob, os\n",
    "import pandas as pd"
   ]
  },
  {
   "cell_type": "code",
   "execution_count": 2,
   "metadata": {},
   "outputs": [
    {
     "name": "stdout",
     "output_type": "stream",
     "text": [
      "/Users/tohjiaxuan/Desktop/stock-prediction/data_consolidation\n",
      "/Users/tohjiaxuan/Desktop/stock-prediction/data_pulling/financial_news\n"
     ]
    }
   ],
   "source": [
    "original_dir = os.getcwd()\n",
    "print(original_dir)\n",
    "\n",
    "data_dir = '/'.join(original_dir.split('/')[:-1]) + '/data_pulling/financial_news'\n",
    "print(data_dir)\n",
    "\n",
    "os.chdir(data_dir)"
   ]
  },
  {
   "cell_type": "markdown",
   "metadata": {},
   "source": [
    "### Concatenate all dataframes"
   ]
  },
  {
   "cell_type": "code",
   "execution_count": 3,
   "metadata": {},
   "outputs": [
    {
     "name": "stdout",
     "output_type": "stream",
     "text": [
      "Filenames:\n",
      "yahoo_finance_news_data.csv\n",
      "sginvestors_data.csv\n",
      "\n",
      "Length of final table: 1164\n"
     ]
    },
    {
     "data": {
      "text/html": [
       "<div>\n",
       "<style scoped>\n",
       "    .dataframe tbody tr th:only-of-type {\n",
       "        vertical-align: middle;\n",
       "    }\n",
       "\n",
       "    .dataframe tbody tr th {\n",
       "        vertical-align: top;\n",
       "    }\n",
       "\n",
       "    .dataframe thead th {\n",
       "        text-align: right;\n",
       "    }\n",
       "</style>\n",
       "<table border=\"1\" class=\"dataframe\">\n",
       "  <thead>\n",
       "    <tr style=\"text-align: right;\">\n",
       "      <th></th>\n",
       "      <th>Symbol</th>\n",
       "      <th>Title</th>\n",
       "      <th>Date</th>\n",
       "      <th>Link</th>\n",
       "      <th>Source</th>\n",
       "      <th>Comments</th>\n",
       "    </tr>\n",
       "  </thead>\n",
       "  <tbody>\n",
       "    <tr>\n",
       "      <th>0</th>\n",
       "      <td>1C0.SI</td>\n",
       "      <td>Is CNS Pharmaceuticals, Inc. (CNSP) Outperform...</td>\n",
       "      <td>20-Jan-22</td>\n",
       "      <td>https://sg.finance.yahoo.com/news/cns-pharmace...</td>\n",
       "      <td>Yahoo Finance News</td>\n",
       "      <td>NaN</td>\n",
       "    </tr>\n",
       "    <tr>\n",
       "      <th>1</th>\n",
       "      <td>1C0.SI</td>\n",
       "      <td>5 Beaten-Down Biotech Bets to Bounce Back in 2022</td>\n",
       "      <td>1-Jan-22</td>\n",
       "      <td>https://sg.finance.yahoo.com/news/5-beaten-dow...</td>\n",
       "      <td>Yahoo Finance News</td>\n",
       "      <td>NaN</td>\n",
       "    </tr>\n",
       "    <tr>\n",
       "      <th>2</th>\n",
       "      <td>1D0.SI</td>\n",
       "      <td>3 Stocks That Raised Their Dividends in the La...</td>\n",
       "      <td>26-May-21</td>\n",
       "      <td>https://sg.finance.yahoo.com/news/3-stocks-rai...</td>\n",
       "      <td>Yahoo Finance News</td>\n",
       "      <td>NaN</td>\n",
       "    </tr>\n",
       "    <tr>\n",
       "      <th>3</th>\n",
       "      <td>41O.SI</td>\n",
       "      <td>3 Stocks That Raised Their Dividends in the La...</td>\n",
       "      <td>26-May-21</td>\n",
       "      <td>https://sg.finance.yahoo.com/news/3-stocks-rai...</td>\n",
       "      <td>Yahoo Finance News</td>\n",
       "      <td>NaN</td>\n",
       "    </tr>\n",
       "    <tr>\n",
       "      <th>4</th>\n",
       "      <td>5CP.SI</td>\n",
       "      <td>Silverlake Axis forms insurance ecosystems ent...</td>\n",
       "      <td>Thu, 3 March 2022, 8:44 am</td>\n",
       "      <td>https://sg.finance.yahoo.com/news/silverlake-a...</td>\n",
       "      <td>Yahoo Finance News</td>\n",
       "      <td>NaN</td>\n",
       "    </tr>\n",
       "  </tbody>\n",
       "</table>\n",
       "</div>"
      ],
      "text/plain": [
       "   Symbol                                              Title  \\\n",
       "0  1C0.SI  Is CNS Pharmaceuticals, Inc. (CNSP) Outperform...   \n",
       "1  1C0.SI  5 Beaten-Down Biotech Bets to Bounce Back in 2022   \n",
       "2  1D0.SI  3 Stocks That Raised Their Dividends in the La...   \n",
       "3  41O.SI  3 Stocks That Raised Their Dividends in the La...   \n",
       "4  5CP.SI  Silverlake Axis forms insurance ecosystems ent...   \n",
       "\n",
       "                         Date  \\\n",
       "0                   20-Jan-22   \n",
       "1                    1-Jan-22   \n",
       "2                   26-May-21   \n",
       "3                   26-May-21   \n",
       "4  Thu, 3 March 2022, 8:44 am   \n",
       "\n",
       "                                                Link              Source  \\\n",
       "0  https://sg.finance.yahoo.com/news/cns-pharmace...  Yahoo Finance News   \n",
       "1  https://sg.finance.yahoo.com/news/5-beaten-dow...  Yahoo Finance News   \n",
       "2  https://sg.finance.yahoo.com/news/3-stocks-rai...  Yahoo Finance News   \n",
       "3  https://sg.finance.yahoo.com/news/3-stocks-rai...  Yahoo Finance News   \n",
       "4  https://sg.finance.yahoo.com/news/silverlake-a...  Yahoo Finance News   \n",
       "\n",
       "  Comments  \n",
       "0      NaN  \n",
       "1      NaN  \n",
       "2      NaN  \n",
       "3      NaN  \n",
       "4      NaN  "
      ]
     },
     "execution_count": 3,
     "metadata": {},
     "output_type": "execute_result"
    }
   ],
   "source": [
    "print('Filenames:')\n",
    "combined_df = []\n",
    "for file in glob.glob(\"*_data.csv\"):\n",
    "    print(file)\n",
    "    df = pd.read_csv(file)\n",
    "    combined_df.append(df)\n",
    "    \n",
    "combined_df = pd.concat(combined_df)\n",
    "print('\\nLength of final table:',len(combined_df))\n",
    "combined_df.head()"
   ]
  },
  {
   "cell_type": "code",
   "execution_count": 5,
   "metadata": {},
   "outputs": [
    {
     "name": "stdout",
     "output_type": "stream",
     "text": [
      "Consolidated dataframe for financial news exported successfully!\n"
     ]
    }
   ],
   "source": [
    "os.chdir(original_dir)\n",
    "combined_df.to_csv('combined_financial_news.csv')\n",
    "\n",
    "print('Consolidated dataframe for financial news exported successfully!')"
   ]
  },
  {
   "cell_type": "code",
   "execution_count": null,
   "metadata": {},
   "outputs": [],
   "source": []
  }
 ],
 "metadata": {
  "kernelspec": {
   "display_name": "Python 3",
   "language": "python",
   "name": "python3"
  },
  "language_info": {
   "codemirror_mode": {
    "name": "ipython",
    "version": 3
   },
   "file_extension": ".py",
   "mimetype": "text/x-python",
   "name": "python",
   "nbconvert_exporter": "python",
   "pygments_lexer": "ipython3",
   "version": "3.7.4"
  }
 },
 "nbformat": 4,
 "nbformat_minor": 2
}
