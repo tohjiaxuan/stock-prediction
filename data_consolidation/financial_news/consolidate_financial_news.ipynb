{
 "cells": [
  {
   "cell_type": "markdown",
   "metadata": {},
   "source": [
    "# Consolidate all financial news into a single table\n",
    "### Sources:\n",
    "1. SG Investors\n",
    "2. Yahoo Finance News"
   ]
  },
  {
   "cell_type": "markdown",
   "metadata": {},
   "source": [
    "### Import Libraries"
   ]
  },
  {
   "cell_type": "code",
   "execution_count": 8,
   "metadata": {},
   "outputs": [],
   "source": [
    "import os"
   ]
  },
  {
   "cell_type": "code",
   "execution_count": 20,
   "metadata": {},
   "outputs": [],
   "source": [
    "original_dir = os.getcwd()\n",
    "data_dir = '/'.join(file_dir.split('/')[:-2]) + '/data_pulling/financial_news'\n",
    "print(data_dir)\n",
    "\n",
    "os.chdir(data_dir)"
   ]
  },
  {
   "cell_type": "markdown",
   "metadata": {},
   "source": [
    "### Concatenate all dataframes"
   ]
  },
  {
   "cell_type": "code",
   "execution_count": 1,
   "metadata": {},
   "outputs": [
    {
     "name": "stdout",
     "output_type": "stream",
     "text": [
      "288 876\n"
     ]
    }
   ],
   "source": [
    "sg_investors = pd.read_csv('sginvestors_data.csv')\n",
    "yahoo_finance_news = pd.read_csv('yahoo_finance_news_data.csv')\n",
    "print(len(sg_investors), len(yahoo_finance_news))"
   ]
  },
  {
   "cell_type": "code",
   "execution_count": 3,
   "metadata": {},
   "outputs": [
    {
     "name": "stdout",
     "output_type": "stream",
     "text": [
      "Length of final table: 1164\n"
     ]
    },
    {
     "data": {
      "text/html": [
       "<div>\n",
       "<style scoped>\n",
       "    .dataframe tbody tr th:only-of-type {\n",
       "        vertical-align: middle;\n",
       "    }\n",
       "\n",
       "    .dataframe tbody tr th {\n",
       "        vertical-align: top;\n",
       "    }\n",
       "\n",
       "    .dataframe thead th {\n",
       "        text-align: right;\n",
       "    }\n",
       "</style>\n",
       "<table border=\"1\" class=\"dataframe\">\n",
       "  <thead>\n",
       "    <tr style=\"text-align: right;\">\n",
       "      <th></th>\n",
       "      <th>Symbol</th>\n",
       "      <th>Title</th>\n",
       "      <th>Date</th>\n",
       "      <th>Link</th>\n",
       "      <th>Source</th>\n",
       "      <th>Comments</th>\n",
       "    </tr>\n",
       "  </thead>\n",
       "  <tbody>\n",
       "    <tr>\n",
       "      <th>0</th>\n",
       "      <td>None (General News)</td>\n",
       "      <td>Singapore contributes US$15m to Coalition for ...</td>\n",
       "      <td>09/03/2022</td>\n",
       "      <td>https://www.businesstimes.com.sg/government-ec...</td>\n",
       "      <td>The Business Times</td>\n",
       "      <td>Featured on SGInvestors</td>\n",
       "    </tr>\n",
       "    <tr>\n",
       "      <th>1</th>\n",
       "      <td>None (General News)</td>\n",
       "      <td>Crypto exchanges staying in Russia will face g...</td>\n",
       "      <td>09/03/2022</td>\n",
       "      <td>https://www.channelnewsasia.com/business/crypt...</td>\n",
       "      <td>CNA</td>\n",
       "      <td>Featured on SGInvestors</td>\n",
       "    </tr>\n",
       "    <tr>\n",
       "      <th>2</th>\n",
       "      <td>None (General News)</td>\n",
       "      <td>Primordial octopus was up in arms - 10 instead...</td>\n",
       "      <td>09/03/2022</td>\n",
       "      <td>https://www.channelnewsasia.com/world/primordi...</td>\n",
       "      <td>CNA</td>\n",
       "      <td>Featured on SGInvestors</td>\n",
       "    </tr>\n",
       "    <tr>\n",
       "      <th>3</th>\n",
       "      <td>None (General News)</td>\n",
       "      <td>Oil surges as US and Britain cut off Russian c...</td>\n",
       "      <td>08/03/2022</td>\n",
       "      <td>https://www.channelnewsasia.com/business/oil-s...</td>\n",
       "      <td>CNA</td>\n",
       "      <td>Featured on SGInvestors</td>\n",
       "    </tr>\n",
       "    <tr>\n",
       "      <th>4</th>\n",
       "      <td>None (General News)</td>\n",
       "      <td>Oil gains on expectations of US and British ba...</td>\n",
       "      <td>08/03/2022</td>\n",
       "      <td>https://www.channelnewsasia.com/business/oil-g...</td>\n",
       "      <td>CNA</td>\n",
       "      <td>Featured on SGInvestors</td>\n",
       "    </tr>\n",
       "  </tbody>\n",
       "</table>\n",
       "</div>"
      ],
      "text/plain": [
       "                Symbol                                              Title  \\\n",
       "0  None (General News)  Singapore contributes US$15m to Coalition for ...   \n",
       "1  None (General News)  Crypto exchanges staying in Russia will face g...   \n",
       "2  None (General News)  Primordial octopus was up in arms - 10 instead...   \n",
       "3  None (General News)  Oil surges as US and Britain cut off Russian c...   \n",
       "4  None (General News)  Oil gains on expectations of US and British ba...   \n",
       "\n",
       "         Date                                               Link  \\\n",
       "0  09/03/2022  https://www.businesstimes.com.sg/government-ec...   \n",
       "1  09/03/2022  https://www.channelnewsasia.com/business/crypt...   \n",
       "2  09/03/2022  https://www.channelnewsasia.com/world/primordi...   \n",
       "3  08/03/2022  https://www.channelnewsasia.com/business/oil-s...   \n",
       "4  08/03/2022  https://www.channelnewsasia.com/business/oil-g...   \n",
       "\n",
       "               Source                 Comments  \n",
       "0  The Business Times  Featured on SGInvestors  \n",
       "1                 CNA  Featured on SGInvestors  \n",
       "2                 CNA  Featured on SGInvestors  \n",
       "3                 CNA  Featured on SGInvestors  \n",
       "4                 CNA  Featured on SGInvestors  "
      ]
     },
     "execution_count": 3,
     "metadata": {},
     "output_type": "execute_result"
    }
   ],
   "source": [
    "frames = [sg_investors, yahoo_finance_news]\n",
    "combined_df = pd.concat(frames)\n",
    "print('Length of final table:',len(combined_df))\n",
    "combined_df.head()"
   ]
  },
  {
   "cell_type": "code",
   "execution_count": 5,
   "metadata": {},
   "outputs": [],
   "source": [
    "os.chdir(original_dir)\n",
    "combined_df.to_csv('combined_df.csv')"
   ]
  },
  {
   "cell_type": "code",
   "execution_count": null,
   "metadata": {},
   "outputs": [],
   "source": []
  }
 ],
 "metadata": {
  "kernelspec": {
   "display_name": "Python 3",
   "language": "python",
   "name": "python3"
  },
  "language_info": {
   "codemirror_mode": {
    "name": "ipython",
    "version": 3
   },
   "file_extension": ".py",
   "mimetype": "text/x-python",
   "name": "python",
   "nbconvert_exporter": "python",
   "pygments_lexer": "ipython3",
   "version": "3.7.4"
  }
 },
 "nbformat": 4,
 "nbformat_minor": 2
}
