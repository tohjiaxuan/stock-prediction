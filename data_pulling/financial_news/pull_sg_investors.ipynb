{
 "cells": [
  {
   "cell_type": "markdown",
   "metadata": {},
   "source": [
    "# Webscraping code for SGInvestors\n",
    "Website: https://sginvestors.io/news/publishers/latest/"
   ]
  },
  {
   "cell_type": "markdown",
   "metadata": {},
   "source": [
    "### Import libraries"
   ]
  },
  {
   "cell_type": "code",
   "execution_count": 1,
   "metadata": {},
   "outputs": [],
   "source": [
    "#!pip install webdriver-manager\n",
    "from bs4 import BeautifulSoup\n",
    "from selenium import webdriver      \n",
    "from selenium.common.exceptions import NoSuchElementException\n",
    "from selenium.webdriver.common.by import By\n",
    "from selenium.webdriver.support.ui import WebDriverWait\n",
    "from selenium.webdriver.support import expected_conditions as EC\n",
    "from selenium.webdriver.common.keys import Keys\n",
    "from webdriver_manager.chrome import ChromeDriverManager\n",
    "\n",
    "import csv\n",
    "import numpy as np\n",
    "import pandas as pd\n",
    "from random import randint\n",
    "import time\n",
    "from datetime import datetime, timedelta\n",
    "\n",
    "import warnings\n",
    "warnings.filterwarnings(\"ignore\")"
   ]
  },
  {
   "cell_type": "code",
   "execution_count": 2,
   "metadata": {},
   "outputs": [
    {
     "name": "stdout",
     "output_type": "stream",
     "text": [
      "Last update: 09/03/2022 03:25:58\n"
     ]
    }
   ],
   "source": [
    "print(\"Last update:\",datetime.now().strftime(\"%d/%m/%Y %H:%M:%S\"))"
   ]
  },
  {
   "cell_type": "markdown",
   "metadata": {},
   "source": [
    "### Scrape information for all pages"
   ]
  },
  {
   "cell_type": "code",
   "execution_count": 3,
   "metadata": {},
   "outputs": [
    {
     "data": {
      "text/plain": [
       "['https://sginvestors.io/news/publishers/latest/',\n",
       " 'https://sginvestors.io/news/publishers/latest/02',\n",
       " 'https://sginvestors.io/news/publishers/latest/03',\n",
       " 'https://sginvestors.io/news/publishers/latest/04',\n",
       " 'https://sginvestors.io/news/publishers/latest/05',\n",
       " 'https://sginvestors.io/news/publishers/latest/06',\n",
       " 'https://sginvestors.io/news/publishers/latest/07',\n",
       " 'https://sginvestors.io/news/publishers/latest/08']"
      ]
     },
     "execution_count": 3,
     "metadata": {},
     "output_type": "execute_result"
    }
   ],
   "source": [
    "# Obtain page URLs\n",
    "page_url_list = ['https://sginvestors.io/news/publishers/latest/'] # 1st page\n",
    "for i in range(2,9): # for 8 pages\n",
    "    page_url_list.append('https://sginvestors.io/news/publishers/latest/0' + str(i))\n",
    "    \n",
    "page_url_list"
   ]
  },
  {
   "cell_type": "code",
   "execution_count": 4,
   "metadata": {},
   "outputs": [
    {
     "name": "stderr",
     "output_type": "stream",
     "text": [
      "\n",
      "\n",
      "====== WebDriver manager ======\n",
      "Current google-chrome version is 99.0.4844\n",
      "Get LATEST chromedriver version for 99.0.4844 google-chrome\n",
      "There is no [mac64] chromedriver for browser  in cache\n",
      "Trying to download new driver from https://chromedriver.storage.googleapis.com/99.0.4844.51/chromedriver_mac64.zip\n",
      "Driver has been saved in cache [/Users/tohjiaxuan/.wdm/drivers/chromedriver/mac64/99.0.4844.51]\n"
     ]
    },
    {
     "name": "stdout",
     "output_type": "stream",
     "text": [
      "Page Number:  1\n",
      "Page URL:  https://sginvestors.io/news/publishers/latest/\n"
     ]
    },
    {
     "name": "stderr",
     "output_type": "stream",
     "text": [
      "\n",
      "\n",
      "====== WebDriver manager ======\n",
      "Current google-chrome version is 99.0.4844\n",
      "Get LATEST chromedriver version for 99.0.4844 google-chrome\n"
     ]
    },
    {
     "name": "stdout",
     "output_type": "stream",
     "text": [
      "---------\n"
     ]
    },
    {
     "name": "stderr",
     "output_type": "stream",
     "text": [
      "Driver [/Users/tohjiaxuan/.wdm/drivers/chromedriver/mac64/99.0.4844.51/chromedriver] found in cache\n",
      "\n",
      "\n",
      "====== WebDriver manager ======\n"
     ]
    },
    {
     "name": "stdout",
     "output_type": "stream",
     "text": [
      "Page Number:  2\n",
      "Page URL:  https://sginvestors.io/news/publishers/latest/02\n",
      "---------\n"
     ]
    },
    {
     "name": "stderr",
     "output_type": "stream",
     "text": [
      "Current google-chrome version is 99.0.4844\n",
      "Get LATEST chromedriver version for 99.0.4844 google-chrome\n",
      "Driver [/Users/tohjiaxuan/.wdm/drivers/chromedriver/mac64/99.0.4844.51/chromedriver] found in cache\n",
      "\n",
      "\n",
      "====== WebDriver manager ======\n"
     ]
    },
    {
     "name": "stdout",
     "output_type": "stream",
     "text": [
      "Page Number:  3\n",
      "Page URL:  https://sginvestors.io/news/publishers/latest/03\n",
      "---------\n"
     ]
    },
    {
     "name": "stderr",
     "output_type": "stream",
     "text": [
      "Current google-chrome version is 99.0.4844\n",
      "Get LATEST chromedriver version for 99.0.4844 google-chrome\n",
      "Driver [/Users/tohjiaxuan/.wdm/drivers/chromedriver/mac64/99.0.4844.51/chromedriver] found in cache\n"
     ]
    },
    {
     "name": "stdout",
     "output_type": "stream",
     "text": [
      "Page Number:  4\n",
      "Page URL:  https://sginvestors.io/news/publishers/latest/04\n"
     ]
    },
    {
     "name": "stderr",
     "output_type": "stream",
     "text": [
      "\n",
      "\n",
      "====== WebDriver manager ======\n",
      "Current google-chrome version is 99.0.4844\n",
      "Get LATEST chromedriver version for 99.0.4844 google-chrome\n"
     ]
    },
    {
     "name": "stdout",
     "output_type": "stream",
     "text": [
      "---------\n"
     ]
    },
    {
     "name": "stderr",
     "output_type": "stream",
     "text": [
      "Driver [/Users/tohjiaxuan/.wdm/drivers/chromedriver/mac64/99.0.4844.51/chromedriver] found in cache\n"
     ]
    },
    {
     "name": "stdout",
     "output_type": "stream",
     "text": [
      "Page Number:  5\n",
      "Page URL:  https://sginvestors.io/news/publishers/latest/05\n"
     ]
    },
    {
     "name": "stderr",
     "output_type": "stream",
     "text": [
      "\n",
      "\n",
      "====== WebDriver manager ======\n",
      "Current google-chrome version is 99.0.4844\n",
      "Get LATEST chromedriver version for 99.0.4844 google-chrome\n"
     ]
    },
    {
     "name": "stdout",
     "output_type": "stream",
     "text": [
      "---------\n"
     ]
    },
    {
     "name": "stderr",
     "output_type": "stream",
     "text": [
      "Driver [/Users/tohjiaxuan/.wdm/drivers/chromedriver/mac64/99.0.4844.51/chromedriver] found in cache\n"
     ]
    },
    {
     "name": "stdout",
     "output_type": "stream",
     "text": [
      "Page Number:  6\n",
      "Page URL:  https://sginvestors.io/news/publishers/latest/06\n"
     ]
    },
    {
     "name": "stderr",
     "output_type": "stream",
     "text": [
      "\n",
      "\n",
      "====== WebDriver manager ======\n",
      "Current google-chrome version is 99.0.4844\n",
      "Get LATEST chromedriver version for 99.0.4844 google-chrome\n"
     ]
    },
    {
     "name": "stdout",
     "output_type": "stream",
     "text": [
      "---------\n"
     ]
    },
    {
     "name": "stderr",
     "output_type": "stream",
     "text": [
      "Driver [/Users/tohjiaxuan/.wdm/drivers/chromedriver/mac64/99.0.4844.51/chromedriver] found in cache\n"
     ]
    },
    {
     "name": "stdout",
     "output_type": "stream",
     "text": [
      "Page Number:  7\n",
      "Page URL:  https://sginvestors.io/news/publishers/latest/07\n"
     ]
    },
    {
     "name": "stderr",
     "output_type": "stream",
     "text": [
      "\n",
      "\n",
      "====== WebDriver manager ======\n",
      "Current google-chrome version is 99.0.4844\n",
      "Get LATEST chromedriver version for 99.0.4844 google-chrome\n"
     ]
    },
    {
     "name": "stdout",
     "output_type": "stream",
     "text": [
      "---------\n"
     ]
    },
    {
     "name": "stderr",
     "output_type": "stream",
     "text": [
      "Driver [/Users/tohjiaxuan/.wdm/drivers/chromedriver/mac64/99.0.4844.51/chromedriver] found in cache\n"
     ]
    },
    {
     "name": "stdout",
     "output_type": "stream",
     "text": [
      "Page Number:  8\n",
      "Page URL:  https://sginvestors.io/news/publishers/latest/08\n",
      "---------\n",
      "---Scraping done!!---\n"
     ]
    }
   ],
   "source": [
    "# Scrape all pages\n",
    "\n",
    "# Initialisations\n",
    "news_source = []\n",
    "news_header = []\n",
    "updated_sg_time = []\n",
    "url = []\n",
    "num_pages = 1\n",
    "\n",
    "# Scraping of pages\n",
    "for page_url in page_url_list[:]:\n",
    "    \n",
    "    #driver = webdriver.Chrome('chromedriver')\n",
    "    driver = webdriver.Chrome(ChromeDriverManager().install())\n",
    "    driver.get(page_url)\n",
    "    page_soup = BeautifulSoup(driver.page_source,\"html.parser\")\n",
    "    \n",
    "    print('Page Number: ', num_pages)\n",
    "    print('Page URL: ', page_url)\n",
    "    \n",
    "    # news_source\n",
    "    for source in page_soup.findAll('img',{'class':'newschannelimg'}):\n",
    "        source_link = source['src']\n",
    "        news_source.append(source_link)\n",
    "    \n",
    "    # news header / title\n",
    "    for header in page_soup.findAll('div',{'class':'newstitle'}):\n",
    "        news_header.append(header.text)\n",
    "        \n",
    "    # updated sg time\n",
    "    for time in page_soup.findAll('div',{'class':'updatedsgtime'}):\n",
    "        updated_sg_time.append(time.text)\n",
    "    \n",
    "    # url\n",
    "    link_container = page_soup.find('div',{'id':'articlelist'})\n",
    "    for news_url in link_container.findAll('a',{'rel':'nofollow'}):\n",
    "        href = news_url.get('href')\n",
    "        url.append(href)\n",
    "    \n",
    "    num_pages += 1\n",
    "    driver.quit()\n",
    "    print('---------')\n",
    "    \n",
    "print('---Scraping done!!---')"
   ]
  },
  {
   "cell_type": "code",
   "execution_count": 5,
   "metadata": {},
   "outputs": [
    {
     "name": "stdout",
     "output_type": "stream",
     "text": [
      "288\n",
      "288\n",
      "288\n",
      "288\n"
     ]
    }
   ],
   "source": [
    "print(len(news_source))\n",
    "print(len(news_header))\n",
    "print(len(updated_sg_time))\n",
    "print(len(url))"
   ]
  },
  {
   "cell_type": "code",
   "execution_count": 6,
   "metadata": {},
   "outputs": [
    {
     "name": "stdout",
     "output_type": "stream",
     "text": [
      "https://lh3.googleusercontent.com/-XitgQTQ_Mzo/Voubk20tr0I/AAAAAAAAFMM/bVbkFFUmkiwEMq6HIdL_H8Zhx-GArdraACCo/s800/business-times-2016.png\n",
      "Singapore contributes US$15m to Coalition for Epidemic Preparedness Innovations\n",
      "2 hours ago\n",
      "https://www.businesstimes.com.sg/government-economy/singapore-contributes-us15m-to-coalition-for-epidemic-preparedness-innovations\n"
     ]
    }
   ],
   "source": [
    "print(news_source[0])\n",
    "print(news_header[0])\n",
    "print(updated_sg_time[0])\n",
    "print(url[0])"
   ]
  },
  {
   "cell_type": "markdown",
   "metadata": {},
   "source": [
    "### Clean up data"
   ]
  },
  {
   "cell_type": "code",
   "execution_count": 7,
   "metadata": {},
   "outputs": [],
   "source": [
    "# Clean up Source information\n",
    "cleaned_source = []\n",
    "for src in news_source:\n",
    "    if 'cna' in src:\n",
    "        cleaned_source.append('CNA')\n",
    "    elif 'theedgegroup' in src:\n",
    "        cleaned_source.append('The Edge')\n",
    "    elif 'business-times' in src:\n",
    "        cleaned_source.append('The Business Times')\n",
    "    else:\n",
    "        cleaned_source.append(src) # will need to double check"
   ]
  },
  {
   "cell_type": "code",
   "execution_count": 8,
   "metadata": {},
   "outputs": [],
   "source": [
    "# Clean up Updated SG Time information (put in terms of date)\n",
    "cleaned_time = []\n",
    "current_time = datetime.today()\n",
    "for time in updated_sg_time:\n",
    "    if 'minute' in time:\n",
    "        last_update = current_time - timedelta(minutes=int(time.split(' ')[0]))\n",
    "    elif 'hour' in time:\n",
    "        last_update = current_time - timedelta(hours=int(time.split(' ')[0]))\n",
    "    elif 'day' in time:\n",
    "        last_update = current_time - timedelta(days=int(time.split(' ')[0]))\n",
    "    else:\n",
    "        last_update = time # will need to double check\n",
    "        \n",
    "    #last_update = last_update.strftime('%d/%m/%Y %H:%M %p') # 27/02/2022 09:05 AM\n",
    "    last_update = last_update.strftime('%d/%m/%Y') # 27/02/2022\n",
    "    cleaned_time.append(last_update)"
   ]
  },
  {
   "cell_type": "markdown",
   "metadata": {},
   "source": [
    "### Convert to DF and Export to CSV"
   ]
  },
  {
   "cell_type": "code",
   "execution_count": 14,
   "metadata": {},
   "outputs": [
    {
     "data": {
      "text/html": [
       "<div>\n",
       "<style scoped>\n",
       "    .dataframe tbody tr th:only-of-type {\n",
       "        vertical-align: middle;\n",
       "    }\n",
       "\n",
       "    .dataframe tbody tr th {\n",
       "        vertical-align: top;\n",
       "    }\n",
       "\n",
       "    .dataframe thead th {\n",
       "        text-align: right;\n",
       "    }\n",
       "</style>\n",
       "<table border=\"1\" class=\"dataframe\">\n",
       "  <thead>\n",
       "    <tr style=\"text-align: right;\">\n",
       "      <th></th>\n",
       "      <th>Symbol</th>\n",
       "      <th>Title</th>\n",
       "      <th>Date</th>\n",
       "      <th>Link</th>\n",
       "      <th>Source</th>\n",
       "      <th>Comments</th>\n",
       "    </tr>\n",
       "  </thead>\n",
       "  <tbody>\n",
       "    <tr>\n",
       "      <th>0</th>\n",
       "      <td>None (General News)</td>\n",
       "      <td>Singapore contributes US$15m to Coalition for ...</td>\n",
       "      <td>09/03/2022</td>\n",
       "      <td>https://www.businesstimes.com.sg/government-ec...</td>\n",
       "      <td>The Business Times</td>\n",
       "      <td>Featured on SGInvestors</td>\n",
       "    </tr>\n",
       "    <tr>\n",
       "      <th>1</th>\n",
       "      <td>None (General News)</td>\n",
       "      <td>Crypto exchanges staying in Russia will face g...</td>\n",
       "      <td>09/03/2022</td>\n",
       "      <td>https://www.channelnewsasia.com/business/crypt...</td>\n",
       "      <td>CNA</td>\n",
       "      <td>Featured on SGInvestors</td>\n",
       "    </tr>\n",
       "    <tr>\n",
       "      <th>2</th>\n",
       "      <td>None (General News)</td>\n",
       "      <td>Primordial octopus was up in arms - 10 instead...</td>\n",
       "      <td>09/03/2022</td>\n",
       "      <td>https://www.channelnewsasia.com/world/primordi...</td>\n",
       "      <td>CNA</td>\n",
       "      <td>Featured on SGInvestors</td>\n",
       "    </tr>\n",
       "    <tr>\n",
       "      <th>3</th>\n",
       "      <td>None (General News)</td>\n",
       "      <td>Oil surges as US and Britain cut off Russian c...</td>\n",
       "      <td>08/03/2022</td>\n",
       "      <td>https://www.channelnewsasia.com/business/oil-s...</td>\n",
       "      <td>CNA</td>\n",
       "      <td>Featured on SGInvestors</td>\n",
       "    </tr>\n",
       "    <tr>\n",
       "      <th>4</th>\n",
       "      <td>None (General News)</td>\n",
       "      <td>Oil gains on expectations of US and British ba...</td>\n",
       "      <td>08/03/2022</td>\n",
       "      <td>https://www.channelnewsasia.com/business/oil-g...</td>\n",
       "      <td>CNA</td>\n",
       "      <td>Featured on SGInvestors</td>\n",
       "    </tr>\n",
       "  </tbody>\n",
       "</table>\n",
       "</div>"
      ],
      "text/plain": [
       "                Symbol                                              Title  \\\n",
       "0  None (General News)  Singapore contributes US$15m to Coalition for ...   \n",
       "1  None (General News)  Crypto exchanges staying in Russia will face g...   \n",
       "2  None (General News)  Primordial octopus was up in arms - 10 instead...   \n",
       "3  None (General News)  Oil surges as US and Britain cut off Russian c...   \n",
       "4  None (General News)  Oil gains on expectations of US and British ba...   \n",
       "\n",
       "         Date                                               Link  \\\n",
       "0  09/03/2022  https://www.businesstimes.com.sg/government-ec...   \n",
       "1  09/03/2022  https://www.channelnewsasia.com/business/crypt...   \n",
       "2  09/03/2022  https://www.channelnewsasia.com/world/primordi...   \n",
       "3  08/03/2022  https://www.channelnewsasia.com/business/oil-s...   \n",
       "4  08/03/2022  https://www.channelnewsasia.com/business/oil-g...   \n",
       "\n",
       "               Source                 Comments  \n",
       "0  The Business Times  Featured on SGInvestors  \n",
       "1                 CNA  Featured on SGInvestors  \n",
       "2                 CNA  Featured on SGInvestors  \n",
       "3                 CNA  Featured on SGInvestors  \n",
       "4                 CNA  Featured on SGInvestors  "
      ]
     },
     "execution_count": 14,
     "metadata": {},
     "output_type": "execute_result"
    }
   ],
   "source": [
    "# Convert to DataFrame\n",
    "cols = ['Title','Date','Link','Source','Comments']\n",
    "df = pd.DataFrame({'Title': news_header,\n",
    "                   'Date': cleaned_time,\n",
    "                   'Link': url,\n",
    "                   'Source': cleaned_source,\n",
    "                   'Comments': 'Featured on SGInvestors'}, columns=cols)\n",
    "df.insert(0, 'Symbol', 'None (General News)')\n",
    "df.head()"
   ]
  },
  {
   "cell_type": "code",
   "execution_count": 15,
   "metadata": {},
   "outputs": [
    {
     "name": "stdout",
     "output_type": "stream",
     "text": [
      "Current date and time 09/03/2022 03:29:23\n",
      "CSV exported successfully!\n"
     ]
    }
   ],
   "source": [
    "# Export to CSV\n",
    "now = datetime.now()\n",
    "current = now.strftime(\"%d/%m/%Y %H:%M:%S\")\n",
    "print('Current date and time',current)\n",
    "\n",
    "df_dict = df.to_dict(orient='records')\n",
    "keys = df_dict[0].keys()\n",
    "with open('sginvestors_data.csv', 'w') as output_file:\n",
    "    dict_writer = csv.DictWriter(output_file, keys)\n",
    "    dict_writer.writeheader()\n",
    "    dict_writer.writerows(df_dict)\n",
    "\n",
    "print('CSV exported successfully!')"
   ]
  },
  {
   "cell_type": "code",
   "execution_count": null,
   "metadata": {},
   "outputs": [],
   "source": []
  }
 ],
 "metadata": {
  "kernelspec": {
   "display_name": "Python 3",
   "language": "python",
   "name": "python3"
  },
  "language_info": {
   "codemirror_mode": {
    "name": "ipython",
    "version": 3
   },
   "file_extension": ".py",
   "mimetype": "text/x-python",
   "name": "python",
   "nbconvert_exporter": "python",
   "pygments_lexer": "ipython3",
   "version": "3.7.4"
  }
 },
 "nbformat": 4,
 "nbformat_minor": 2
}
